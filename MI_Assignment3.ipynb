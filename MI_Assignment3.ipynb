{
  "nbformat": 4,
  "nbformat_minor": 0,
  "metadata": {
    "colab": {
      "name": "MI_Assignment3.ipynb",
      "provenance": [],
      "collapsed_sections": [],
      "include_colab_link": true
    },
    "kernelspec": {
      "name": "python3",
      "display_name": "Python 3"
    }
  },
  "cells": [
    {
      "cell_type": "markdown",
      "metadata": {
        "id": "view-in-github",
        "colab_type": "text"
      },
      "source": [
        "<a href=\"https://colab.research.google.com/github/mohitgaggar/Machine_Intelligence/blob/master/MI_Assignment3.ipynb\" target=\"_parent\"><img src=\"https://colab.research.google.com/assets/colab-badge.svg\" alt=\"Open In Colab\"/></a>"
      ]
    },
    {
      "cell_type": "code",
      "metadata": {
        "id": "8zv0Ef6-QZge",
        "outputId": "ac28bb8f-c11f-4c0c-ec3b-215009549498",
        "colab": {
          "base_uri": "https://localhost:8080/"
        }
      },
      "source": [
        "from google.colab import drive\n",
        "drive.mount('/content/drive')"
      ],
      "execution_count": null,
      "outputs": [
        {
          "output_type": "stream",
          "text": [
            "Mounted at /content/drive\n"
          ],
          "name": "stdout"
        }
      ]
    },
    {
      "cell_type": "code",
      "metadata": {
        "id": "q29HM-5lPz_J"
      },
      "source": [
        "import pandas as pd\n",
        "import numpy as np"
      ],
      "execution_count": null,
      "outputs": []
    },
    {
      "cell_type": "code",
      "metadata": {
        "id": "MRM3FktqP2yX"
      },
      "source": [
        "data = pd.read_csv(r'/content/drive/My Drive/LBW_Dataset.csv')"
      ],
      "execution_count": null,
      "outputs": []
    },
    {
      "cell_type": "code",
      "metadata": {
        "id": "-bH70KwEP58_",
        "outputId": "de2bc63a-45d4-4b87-d46b-e4e55ca6381f",
        "colab": {
          "base_uri": "https://localhost:8080/",
          "height": 195
        }
      },
      "source": [
        "data.head()"
      ],
      "execution_count": null,
      "outputs": [
        {
          "output_type": "execute_result",
          "data": {
            "text/html": [
              "<div>\n",
              "<style scoped>\n",
              "    .dataframe tbody tr th:only-of-type {\n",
              "        vertical-align: middle;\n",
              "    }\n",
              "\n",
              "    .dataframe tbody tr th {\n",
              "        vertical-align: top;\n",
              "    }\n",
              "\n",
              "    .dataframe thead th {\n",
              "        text-align: right;\n",
              "    }\n",
              "</style>\n",
              "<table border=\"1\" class=\"dataframe\">\n",
              "  <thead>\n",
              "    <tr style=\"text-align: right;\">\n",
              "      <th></th>\n",
              "      <th>Community</th>\n",
              "      <th>Age</th>\n",
              "      <th>Weight</th>\n",
              "      <th>Delivery phase</th>\n",
              "      <th>HB</th>\n",
              "      <th>IFA</th>\n",
              "      <th>BP</th>\n",
              "      <th>Education</th>\n",
              "      <th>Residence</th>\n",
              "      <th>Result</th>\n",
              "    </tr>\n",
              "  </thead>\n",
              "  <tbody>\n",
              "    <tr>\n",
              "      <th>0</th>\n",
              "      <td>1</td>\n",
              "      <td>21.0</td>\n",
              "      <td>42.0</td>\n",
              "      <td>1.0</td>\n",
              "      <td>9.2</td>\n",
              "      <td>1</td>\n",
              "      <td>1.375</td>\n",
              "      <td>5.0</td>\n",
              "      <td>1.0</td>\n",
              "      <td>0</td>\n",
              "    </tr>\n",
              "    <tr>\n",
              "      <th>1</th>\n",
              "      <td>1</td>\n",
              "      <td>21.0</td>\n",
              "      <td>NaN</td>\n",
              "      <td>1.0</td>\n",
              "      <td>8.8</td>\n",
              "      <td>1</td>\n",
              "      <td>1.500</td>\n",
              "      <td>5.0</td>\n",
              "      <td>1.0</td>\n",
              "      <td>0</td>\n",
              "    </tr>\n",
              "    <tr>\n",
              "      <th>2</th>\n",
              "      <td>1</td>\n",
              "      <td>21.0</td>\n",
              "      <td>NaN</td>\n",
              "      <td>1.0</td>\n",
              "      <td>9.2</td>\n",
              "      <td>1</td>\n",
              "      <td>2.125</td>\n",
              "      <td>5.0</td>\n",
              "      <td>1.0</td>\n",
              "      <td>0</td>\n",
              "    </tr>\n",
              "    <tr>\n",
              "      <th>3</th>\n",
              "      <td>1</td>\n",
              "      <td>21.0</td>\n",
              "      <td>NaN</td>\n",
              "      <td>1.0</td>\n",
              "      <td>8.0</td>\n",
              "      <td>1</td>\n",
              "      <td>1.375</td>\n",
              "      <td>5.0</td>\n",
              "      <td>1.0</td>\n",
              "      <td>0</td>\n",
              "    </tr>\n",
              "    <tr>\n",
              "      <th>4</th>\n",
              "      <td>1</td>\n",
              "      <td>24.0</td>\n",
              "      <td>33.0</td>\n",
              "      <td>1.0</td>\n",
              "      <td>9.3</td>\n",
              "      <td>1</td>\n",
              "      <td>1.571</td>\n",
              "      <td>5.0</td>\n",
              "      <td>1.0</td>\n",
              "      <td>0</td>\n",
              "    </tr>\n",
              "  </tbody>\n",
              "</table>\n",
              "</div>"
            ],
            "text/plain": [
              "   Community   Age  Weight  Delivery phase  ...     BP  Education  Residence  Result\n",
              "0          1  21.0    42.0             1.0  ...  1.375        5.0        1.0       0\n",
              "1          1  21.0     NaN             1.0  ...  1.500        5.0        1.0       0\n",
              "2          1  21.0     NaN             1.0  ...  2.125        5.0        1.0       0\n",
              "3          1  21.0     NaN             1.0  ...  1.375        5.0        1.0       0\n",
              "4          1  24.0    33.0             1.0  ...  1.571        5.0        1.0       0\n",
              "\n",
              "[5 rows x 10 columns]"
            ]
          },
          "metadata": {
            "tags": []
          },
          "execution_count": 5
        }
      ]
    },
    {
      "cell_type": "code",
      "metadata": {
        "id": "fLQIuAjHRJHx",
        "outputId": "6a0de65d-fcb0-4675-f694-7a3f71275111",
        "colab": {
          "base_uri": "https://localhost:8080/",
          "height": 284
        }
      },
      "source": [
        "data.describe()"
      ],
      "execution_count": null,
      "outputs": [
        {
          "output_type": "execute_result",
          "data": {
            "text/html": [
              "<div>\n",
              "<style scoped>\n",
              "    .dataframe tbody tr th:only-of-type {\n",
              "        vertical-align: middle;\n",
              "    }\n",
              "\n",
              "    .dataframe tbody tr th {\n",
              "        vertical-align: top;\n",
              "    }\n",
              "\n",
              "    .dataframe thead th {\n",
              "        text-align: right;\n",
              "    }\n",
              "</style>\n",
              "<table border=\"1\" class=\"dataframe\">\n",
              "  <thead>\n",
              "    <tr style=\"text-align: right;\">\n",
              "      <th></th>\n",
              "      <th>Community</th>\n",
              "      <th>Age</th>\n",
              "      <th>Weight</th>\n",
              "      <th>Delivery phase</th>\n",
              "      <th>HB</th>\n",
              "      <th>IFA</th>\n",
              "      <th>BP</th>\n",
              "      <th>Education</th>\n",
              "      <th>Residence</th>\n",
              "      <th>Result</th>\n",
              "    </tr>\n",
              "  </thead>\n",
              "  <tbody>\n",
              "    <tr>\n",
              "      <th>count</th>\n",
              "      <td>96.000000</td>\n",
              "      <td>89.000000</td>\n",
              "      <td>85.000000</td>\n",
              "      <td>92.000000</td>\n",
              "      <td>77.000000</td>\n",
              "      <td>96.000000</td>\n",
              "      <td>81.000000</td>\n",
              "      <td>93.0</td>\n",
              "      <td>94.000000</td>\n",
              "      <td>96.000000</td>\n",
              "    </tr>\n",
              "    <tr>\n",
              "      <th>mean</th>\n",
              "      <td>2.177083</td>\n",
              "      <td>23.752809</td>\n",
              "      <td>45.129412</td>\n",
              "      <td>1.021739</td>\n",
              "      <td>9.076623</td>\n",
              "      <td>0.687500</td>\n",
              "      <td>1.725189</td>\n",
              "      <td>5.0</td>\n",
              "      <td>1.138298</td>\n",
              "      <td>0.750000</td>\n",
              "    </tr>\n",
              "    <tr>\n",
              "      <th>std</th>\n",
              "      <td>1.213909</td>\n",
              "      <td>3.321011</td>\n",
              "      <td>8.215532</td>\n",
              "      <td>0.146630</td>\n",
              "      <td>0.788052</td>\n",
              "      <td>0.465946</td>\n",
              "      <td>1.449447</td>\n",
              "      <td>0.0</td>\n",
              "      <td>0.347063</td>\n",
              "      <td>0.435286</td>\n",
              "    </tr>\n",
              "    <tr>\n",
              "      <th>min</th>\n",
              "      <td>1.000000</td>\n",
              "      <td>17.000000</td>\n",
              "      <td>30.000000</td>\n",
              "      <td>1.000000</td>\n",
              "      <td>5.900000</td>\n",
              "      <td>0.000000</td>\n",
              "      <td>1.200000</td>\n",
              "      <td>5.0</td>\n",
              "      <td>1.000000</td>\n",
              "      <td>0.000000</td>\n",
              "    </tr>\n",
              "    <tr>\n",
              "      <th>25%</th>\n",
              "      <td>1.000000</td>\n",
              "      <td>21.000000</td>\n",
              "      <td>40.000000</td>\n",
              "      <td>1.000000</td>\n",
              "      <td>8.900000</td>\n",
              "      <td>0.000000</td>\n",
              "      <td>1.375000</td>\n",
              "      <td>5.0</td>\n",
              "      <td>1.000000</td>\n",
              "      <td>0.750000</td>\n",
              "    </tr>\n",
              "    <tr>\n",
              "      <th>50%</th>\n",
              "      <td>2.500000</td>\n",
              "      <td>24.000000</td>\n",
              "      <td>43.000000</td>\n",
              "      <td>1.000000</td>\n",
              "      <td>9.000000</td>\n",
              "      <td>1.000000</td>\n",
              "      <td>1.500000</td>\n",
              "      <td>5.0</td>\n",
              "      <td>1.000000</td>\n",
              "      <td>1.000000</td>\n",
              "    </tr>\n",
              "    <tr>\n",
              "      <th>75%</th>\n",
              "      <td>3.000000</td>\n",
              "      <td>26.000000</td>\n",
              "      <td>50.000000</td>\n",
              "      <td>1.000000</td>\n",
              "      <td>9.200000</td>\n",
              "      <td>1.000000</td>\n",
              "      <td>1.661538</td>\n",
              "      <td>5.0</td>\n",
              "      <td>1.000000</td>\n",
              "      <td>1.000000</td>\n",
              "    </tr>\n",
              "    <tr>\n",
              "      <th>max</th>\n",
              "      <td>4.000000</td>\n",
              "      <td>38.000000</td>\n",
              "      <td>65.000000</td>\n",
              "      <td>2.000000</td>\n",
              "      <td>11.000000</td>\n",
              "      <td>1.000000</td>\n",
              "      <td>13.875000</td>\n",
              "      <td>5.0</td>\n",
              "      <td>2.000000</td>\n",
              "      <td>1.000000</td>\n",
              "    </tr>\n",
              "  </tbody>\n",
              "</table>\n",
              "</div>"
            ],
            "text/plain": [
              "       Community        Age     Weight  ...  Education  Residence     Result\n",
              "count  96.000000  89.000000  85.000000  ...       93.0  94.000000  96.000000\n",
              "mean    2.177083  23.752809  45.129412  ...        5.0   1.138298   0.750000\n",
              "std     1.213909   3.321011   8.215532  ...        0.0   0.347063   0.435286\n",
              "min     1.000000  17.000000  30.000000  ...        5.0   1.000000   0.000000\n",
              "25%     1.000000  21.000000  40.000000  ...        5.0   1.000000   0.750000\n",
              "50%     2.500000  24.000000  43.000000  ...        5.0   1.000000   1.000000\n",
              "75%     3.000000  26.000000  50.000000  ...        5.0   1.000000   1.000000\n",
              "max     4.000000  38.000000  65.000000  ...        5.0   2.000000   1.000000\n",
              "\n",
              "[8 rows x 10 columns]"
            ]
          },
          "metadata": {
            "tags": []
          },
          "execution_count": 6
        }
      ]
    },
    {
      "cell_type": "code",
      "metadata": {
        "id": "KgLoVzp2SoXe",
        "outputId": "e5fa32fa-7553-4b56-914f-13ecee3e7b51",
        "colab": {
          "base_uri": "https://localhost:8080/"
        }
      },
      "source": [
        "data.isnull().sum()"
      ],
      "execution_count": null,
      "outputs": [
        {
          "output_type": "execute_result",
          "data": {
            "text/plain": [
              "Community          0\n",
              "Age                7\n",
              "Weight            11\n",
              "Delivery phase     4\n",
              "HB                19\n",
              "IFA                0\n",
              "BP                15\n",
              "Education          3\n",
              "Residence          2\n",
              "Result             0\n",
              "dtype: int64"
            ]
          },
          "metadata": {
            "tags": []
          },
          "execution_count": 7
        }
      ]
    },
    {
      "cell_type": "code",
      "metadata": {
        "id": "qAohScN2WOdI"
      },
      "source": [
        "# data['Result'][0]=np.nan"
      ],
      "execution_count": null,
      "outputs": []
    },
    {
      "cell_type": "code",
      "metadata": {
        "id": "eL5OtB8QQ9gg",
        "outputId": "2a366f30-ae8c-44c3-8225-8430a13de409",
        "colab": {
          "base_uri": "https://localhost:8080/"
        }
      },
      "source": [
        "len(data)"
      ],
      "execution_count": null,
      "outputs": [
        {
          "output_type": "execute_result",
          "data": {
            "text/plain": [
              "96"
            ]
          },
          "metadata": {
            "tags": []
          },
          "execution_count": 9
        }
      ]
    },
    {
      "cell_type": "code",
      "metadata": {
        "id": "DWlDd6puP52M"
      },
      "source": [
        "\n",
        "\n",
        "# ### Replacing NaN values\n",
        "\n",
        "# Age,Weight,HB,BP with mean\n",
        "replace_mean = ['Age','Weight','HB','BP']\n",
        "for col in replace_mean:\n",
        "    data[col].fillna(data[col].mean(),inplace = True)\n"
      ],
      "execution_count": null,
      "outputs": []
    },
    {
      "cell_type": "code",
      "metadata": {
        "id": "ck2HIzqZP9jo"
      },
      "source": [
        "\n",
        "# Delivery Phase,IFA,Residence with forward fill \n",
        "forward_fill = ['Delivery phase','IFA' ,'Residence']\n",
        "for col in forward_fill:\n",
        "    data[col].ffill(axis = 0,inplace=True)\n"
      ],
      "execution_count": null,
      "outputs": []
    },
    {
      "cell_type": "code",
      "metadata": {
        "id": "-PX22hxjP_Sk"
      },
      "source": [
        "\n",
        "# Community,Education with mode\n",
        "replace_mode = ['Community','Education','Result']\n",
        "mode=[data.mode()[col][0] for col in replace_mode]\n",
        "for i in range(len(replace_mode)):\n",
        "    data[replace_mode[i]].fillna(mode[i],inplace = True)"
      ],
      "execution_count": null,
      "outputs": []
    },
    {
      "cell_type": "code",
      "metadata": {
        "id": "UvpqBR5FR_-Y",
        "outputId": "d51295fc-4c3e-462c-d5bd-121890cd08f2",
        "colab": {
          "base_uri": "https://localhost:8080/"
        }
      },
      "source": [
        "data.isnull().sum()"
      ],
      "execution_count": null,
      "outputs": [
        {
          "output_type": "execute_result",
          "data": {
            "text/plain": [
              "Community         0\n",
              "Age               0\n",
              "Weight            0\n",
              "Delivery phase    0\n",
              "HB                0\n",
              "IFA               0\n",
              "BP                0\n",
              "Education         0\n",
              "Residence         0\n",
              "Result            0\n",
              "dtype: int64"
            ]
          },
          "metadata": {
            "tags": []
          },
          "execution_count": 13
        }
      ]
    },
    {
      "cell_type": "code",
      "metadata": {
        "id": "yss4Z8G8Va6J",
        "outputId": "a68c80c8-b70f-4a80-de58-a59ea4f41878",
        "colab": {
          "base_uri": "https://localhost:8080/",
          "height": 195
        }
      },
      "source": [
        "data.head()"
      ],
      "execution_count": null,
      "outputs": [
        {
          "output_type": "execute_result",
          "data": {
            "text/html": [
              "<div>\n",
              "<style scoped>\n",
              "    .dataframe tbody tr th:only-of-type {\n",
              "        vertical-align: middle;\n",
              "    }\n",
              "\n",
              "    .dataframe tbody tr th {\n",
              "        vertical-align: top;\n",
              "    }\n",
              "\n",
              "    .dataframe thead th {\n",
              "        text-align: right;\n",
              "    }\n",
              "</style>\n",
              "<table border=\"1\" class=\"dataframe\">\n",
              "  <thead>\n",
              "    <tr style=\"text-align: right;\">\n",
              "      <th></th>\n",
              "      <th>Community</th>\n",
              "      <th>Age</th>\n",
              "      <th>Weight</th>\n",
              "      <th>Delivery phase</th>\n",
              "      <th>HB</th>\n",
              "      <th>IFA</th>\n",
              "      <th>BP</th>\n",
              "      <th>Education</th>\n",
              "      <th>Residence</th>\n",
              "      <th>Result</th>\n",
              "    </tr>\n",
              "  </thead>\n",
              "  <tbody>\n",
              "    <tr>\n",
              "      <th>0</th>\n",
              "      <td>1</td>\n",
              "      <td>21.0</td>\n",
              "      <td>42.000000</td>\n",
              "      <td>1.0</td>\n",
              "      <td>9.2</td>\n",
              "      <td>1</td>\n",
              "      <td>1.375</td>\n",
              "      <td>5.0</td>\n",
              "      <td>1.0</td>\n",
              "      <td>0</td>\n",
              "    </tr>\n",
              "    <tr>\n",
              "      <th>1</th>\n",
              "      <td>1</td>\n",
              "      <td>21.0</td>\n",
              "      <td>45.129412</td>\n",
              "      <td>1.0</td>\n",
              "      <td>8.8</td>\n",
              "      <td>1</td>\n",
              "      <td>1.500</td>\n",
              "      <td>5.0</td>\n",
              "      <td>1.0</td>\n",
              "      <td>0</td>\n",
              "    </tr>\n",
              "    <tr>\n",
              "      <th>2</th>\n",
              "      <td>1</td>\n",
              "      <td>21.0</td>\n",
              "      <td>45.129412</td>\n",
              "      <td>1.0</td>\n",
              "      <td>9.2</td>\n",
              "      <td>1</td>\n",
              "      <td>2.125</td>\n",
              "      <td>5.0</td>\n",
              "      <td>1.0</td>\n",
              "      <td>0</td>\n",
              "    </tr>\n",
              "    <tr>\n",
              "      <th>3</th>\n",
              "      <td>1</td>\n",
              "      <td>21.0</td>\n",
              "      <td>45.129412</td>\n",
              "      <td>1.0</td>\n",
              "      <td>8.0</td>\n",
              "      <td>1</td>\n",
              "      <td>1.375</td>\n",
              "      <td>5.0</td>\n",
              "      <td>1.0</td>\n",
              "      <td>0</td>\n",
              "    </tr>\n",
              "    <tr>\n",
              "      <th>4</th>\n",
              "      <td>1</td>\n",
              "      <td>24.0</td>\n",
              "      <td>33.000000</td>\n",
              "      <td>1.0</td>\n",
              "      <td>9.3</td>\n",
              "      <td>1</td>\n",
              "      <td>1.571</td>\n",
              "      <td>5.0</td>\n",
              "      <td>1.0</td>\n",
              "      <td>0</td>\n",
              "    </tr>\n",
              "  </tbody>\n",
              "</table>\n",
              "</div>"
            ],
            "text/plain": [
              "   Community   Age     Weight  ...  Education  Residence  Result\n",
              "0          1  21.0  42.000000  ...        5.0        1.0       0\n",
              "1          1  21.0  45.129412  ...        5.0        1.0       0\n",
              "2          1  21.0  45.129412  ...        5.0        1.0       0\n",
              "3          1  21.0  45.129412  ...        5.0        1.0       0\n",
              "4          1  24.0  33.000000  ...        5.0        1.0       0\n",
              "\n",
              "[5 rows x 10 columns]"
            ]
          },
          "metadata": {
            "tags": []
          },
          "execution_count": 14
        }
      ]
    },
    {
      "cell_type": "code",
      "metadata": {
        "id": "EuPT12lwPq-Z"
      },
      "source": [
        "\n",
        "# ### Normalising the data \n",
        "normal_col = [\"Age\", \"Weight\", \"HB\", \"BP\"]\n",
        "for column in normal_col:\n",
        "    max_val = max(data[column])\n",
        "    min_val = min(data[column])\n",
        "\n",
        "    data[column] = (data[column]-min_val)/(max_val-min_val)\n",
        "\n",
        "\n",
        "\n",
        "\n",
        "\n",
        "\n"
      ],
      "execution_count": null,
      "outputs": []
    },
    {
      "cell_type": "code",
      "metadata": {
        "id": "bEDyqACvWgvk",
        "outputId": "0e64b212-d1d1-43aa-bb89-9558f0fd9071",
        "colab": {
          "base_uri": "https://localhost:8080/",
          "height": 195
        }
      },
      "source": [
        "data.head()"
      ],
      "execution_count": null,
      "outputs": [
        {
          "output_type": "execute_result",
          "data": {
            "text/html": [
              "<div>\n",
              "<style scoped>\n",
              "    .dataframe tbody tr th:only-of-type {\n",
              "        vertical-align: middle;\n",
              "    }\n",
              "\n",
              "    .dataframe tbody tr th {\n",
              "        vertical-align: top;\n",
              "    }\n",
              "\n",
              "    .dataframe thead th {\n",
              "        text-align: right;\n",
              "    }\n",
              "</style>\n",
              "<table border=\"1\" class=\"dataframe\">\n",
              "  <thead>\n",
              "    <tr style=\"text-align: right;\">\n",
              "      <th></th>\n",
              "      <th>Community</th>\n",
              "      <th>Age</th>\n",
              "      <th>Weight</th>\n",
              "      <th>Delivery phase</th>\n",
              "      <th>HB</th>\n",
              "      <th>IFA</th>\n",
              "      <th>BP</th>\n",
              "      <th>Education</th>\n",
              "      <th>Residence</th>\n",
              "      <th>Result</th>\n",
              "    </tr>\n",
              "  </thead>\n",
              "  <tbody>\n",
              "    <tr>\n",
              "      <th>0</th>\n",
              "      <td>1</td>\n",
              "      <td>0.190476</td>\n",
              "      <td>0.342857</td>\n",
              "      <td>1.0</td>\n",
              "      <td>0.647059</td>\n",
              "      <td>1</td>\n",
              "      <td>0.013807</td>\n",
              "      <td>5.0</td>\n",
              "      <td>1.0</td>\n",
              "      <td>0</td>\n",
              "    </tr>\n",
              "    <tr>\n",
              "      <th>1</th>\n",
              "      <td>1</td>\n",
              "      <td>0.190476</td>\n",
              "      <td>0.432269</td>\n",
              "      <td>1.0</td>\n",
              "      <td>0.568627</td>\n",
              "      <td>1</td>\n",
              "      <td>0.023669</td>\n",
              "      <td>5.0</td>\n",
              "      <td>1.0</td>\n",
              "      <td>0</td>\n",
              "    </tr>\n",
              "    <tr>\n",
              "      <th>2</th>\n",
              "      <td>1</td>\n",
              "      <td>0.190476</td>\n",
              "      <td>0.432269</td>\n",
              "      <td>1.0</td>\n",
              "      <td>0.647059</td>\n",
              "      <td>1</td>\n",
              "      <td>0.072978</td>\n",
              "      <td>5.0</td>\n",
              "      <td>1.0</td>\n",
              "      <td>0</td>\n",
              "    </tr>\n",
              "    <tr>\n",
              "      <th>3</th>\n",
              "      <td>1</td>\n",
              "      <td>0.190476</td>\n",
              "      <td>0.432269</td>\n",
              "      <td>1.0</td>\n",
              "      <td>0.411765</td>\n",
              "      <td>1</td>\n",
              "      <td>0.013807</td>\n",
              "      <td>5.0</td>\n",
              "      <td>1.0</td>\n",
              "      <td>0</td>\n",
              "    </tr>\n",
              "    <tr>\n",
              "      <th>4</th>\n",
              "      <td>1</td>\n",
              "      <td>0.333333</td>\n",
              "      <td>0.085714</td>\n",
              "      <td>1.0</td>\n",
              "      <td>0.666667</td>\n",
              "      <td>1</td>\n",
              "      <td>0.029270</td>\n",
              "      <td>5.0</td>\n",
              "      <td>1.0</td>\n",
              "      <td>0</td>\n",
              "    </tr>\n",
              "  </tbody>\n",
              "</table>\n",
              "</div>"
            ],
            "text/plain": [
              "   Community       Age    Weight  ...  Education  Residence  Result\n",
              "0          1  0.190476  0.342857  ...        5.0        1.0       0\n",
              "1          1  0.190476  0.432269  ...        5.0        1.0       0\n",
              "2          1  0.190476  0.432269  ...        5.0        1.0       0\n",
              "3          1  0.190476  0.432269  ...        5.0        1.0       0\n",
              "4          1  0.333333  0.085714  ...        5.0        1.0       0\n",
              "\n",
              "[5 rows x 10 columns]"
            ]
          },
          "metadata": {
            "tags": []
          },
          "execution_count": 16
        }
      ]
    },
    {
      "cell_type": "code",
      "metadata": {
        "id": "F5Q96glTbPcG",
        "outputId": "ebafa37e-6b28-495d-b58c-96fe0f84121e",
        "colab": {
          "base_uri": "https://localhost:8080/"
        }
      },
      "source": [
        "# Number of unique values under each attribute\n",
        "print(\"Total number of values \",len(data))\n",
        "\n",
        "for i in data.columns:\n",
        "    print(i,len(set(data[i])))\n",
        "    # print(set(data[i]))"
      ],
      "execution_count": null,
      "outputs": [
        {
          "output_type": "stream",
          "text": [
            "Total number of values  96\n",
            "Community 4\n",
            "Age 15\n",
            "Weight 29\n",
            "Delivery phase 2\n",
            "HB 23\n",
            "IFA 2\n",
            "BP 21\n",
            "Education 1\n",
            "Residence 2\n",
            "Result 2\n"
          ],
          "name": "stdout"
        }
      ]
    },
    {
      "cell_type": "code",
      "metadata": {
        "id": "JCwBHJZ7N4zl"
      },
      "source": [
        "#Initialise weight matrix\n",
        "\n",
        "#Use random function"
      ],
      "execution_count": null,
      "outputs": []
    },
    {
      "cell_type": "code",
      "metadata": {
        "id": "RYTvGzHwN7V3",
        "outputId": "64a5a406-8731-4cd8-cd6b-a0ca5b83ae23",
        "colab": {
          "base_uri": "https://localhost:8080/"
        }
      },
      "source": [
        "#Initialize bias matrix\n",
        "HIDDEN_LAYER_SIZE=9\n",
        "OUTPUT_LAYER_SIZE=1\n",
        "def init_bias():\n",
        "    Bh = np.full((1, HIDDEN_LAYER_SIZE), 0.1)\n",
        "    Bo = np.full((1, OUTPUT_LAYER_SIZE), 0.1)\n",
        "    print(Bh,Bo)\n",
        "init_bias()"
      ],
      "execution_count": null,
      "outputs": [
        {
          "output_type": "stream",
          "text": [
            "[[0.1 0.1 0.1 0.1 0.1 0.1 0.1 0.1 0.1]] [[0.1]]\n"
          ],
          "name": "stdout"
        }
      ]
    },
    {
      "cell_type": "code",
      "metadata": {
        "id": "6yPo-E7UBL15",
        "outputId": "7d43df5e-416d-43bb-c123-636645ba75fe",
        "colab": {
          "base_uri": "https://localhost:8080/",
          "height": 69
        }
      },
      "source": [
        "#Activation Functions\n",
        "#The sigmoid function that outputs values between 0 and 1\n",
        "#Relu works here as all inputs are positive\n",
        "#Softmax can be used on the last hidden layer\n",
        "\n",
        "\"\"\"\n",
        "#Activation function applied on matrices\n",
        "\n",
        "def relu(x):\n",
        "  return return np.maximum(0,X)\n",
        "\n",
        "def sigmoid(x):\n",
        "  return return 1/(1+np.exp(-X))\n",
        "\n",
        "#The Softmax function takes a vector of numbers and returns a normalized probability distribution of the exponentials of the numbers.\n",
        "def softmax(x):\n",
        "    expo = np.exp(X)\n",
        "    expo_sum = np.sum(np.exp(X))\n",
        "    return expo/expo_sum\n",
        "\"\"\""
      ],
      "execution_count": null,
      "outputs": [
        {
          "output_type": "execute_result",
          "data": {
            "application/vnd.google.colaboratory.intrinsic+json": {
              "type": "string"
            },
            "text/plain": [
              "'\\n#Activation function applied on matrices\\n\\ndef relu(x):\\n  return return np.maximum(0,X)\\n\\ndef sigmoid(x):\\n  return return 1/(1+np.exp(-X))\\n\\n#The Softmax function takes a vector of numbers and returns a normalized probability distribution of the exponentials of the numbers.\\ndef softmax(x):\\n    expo = np.exp(X)\\n    expo_sum = np.sum(np.exp(X))\\n    return expo/expo_sum\\n'"
            ]
          },
          "metadata": {
            "tags": []
          },
          "execution_count": 20
        }
      ]
    },
    {
      "cell_type": "code",
      "metadata": {
        "id": "E8tCuMN2Yqgj",
        "outputId": "a5272b79-d116-4107-c350-f685a913d3ca",
        "colab": {
          "base_uri": "https://localhost:8080/",
          "height": 35
        }
      },
      "source": [
        "#Derivative of activation functions\n",
        "'''\n",
        "def d_sigmoid(y):\n",
        "    return y * (1.0 - y)\n",
        "def relu_prime(z):\n",
        "  return 1 if z > 0 else 0\n",
        "'''"
      ],
      "execution_count": null,
      "outputs": [
        {
          "output_type": "execute_result",
          "data": {
            "application/vnd.google.colaboratory.intrinsic+json": {
              "type": "string"
            },
            "text/plain": [
              "'\\ndef d_sigmoid(y):\\n    return y * (1.0 - y)\\ndef relu_prime(z):\\n  return 1 if z > 0 else 0\\n'"
            ]
          },
          "metadata": {
            "tags": []
          },
          "execution_count": 21
        }
      ]
    },
    {
      "cell_type": "code",
      "metadata": {
        "id": "EQMnrzVwHu5o",
        "outputId": "01a4b3de-0f64-4643-d906-53e5fceda944",
        "colab": {
          "base_uri": "https://localhost:8080/",
          "height": 52
        }
      },
      "source": [
        "#Feed forward through the hidden layers\n",
        "\n",
        "\"\"\"\n",
        "\n",
        "# Implement Forward Propagation to calculate A2 \n",
        "    Z1 = np.dot(W1,X) + b1\n",
        "    A1 = relu(Z1) #Whichever activation function\n",
        "    .\n",
        "    .\n",
        "    Zn = np.dot(Wn,An-1) + bn\n",
        "    An = softmax(Zn) # Final output prediction\n",
        "\n",
        "def feed_forward(X):\n",
        "   \n",
        "\n",
        "\"\"\""
      ],
      "execution_count": null,
      "outputs": [
        {
          "output_type": "execute_result",
          "data": {
            "application/vnd.google.colaboratory.intrinsic+json": {
              "type": "string"
            },
            "text/plain": [
              "'\\n\\n# Implement Forward Propagation to calculate A2 \\n    Z1 = np.dot(W1,X) + b1\\n    A1 = relu(Z1) #Whichever activation function\\n    .\\n    .\\n    Zn = np.dot(Wn,An-1) + bn\\n    An = softmax(Zn) # Final output prediction\\n\\ndef feed_forward(X):\\n   \\n\\n'"
            ]
          },
          "metadata": {
            "tags": []
          },
          "execution_count": 22
        }
      ]
    },
    {
      "cell_type": "code",
      "metadata": {
        "id": "mXSaRqMKp9yA"
      },
      "source": [
        "#Gradient Descent\n"
      ],
      "execution_count": null,
      "outputs": []
    },
    {
      "cell_type": "code",
      "metadata": {
        "id": "CQJ43pkMM14H"
      },
      "source": [
        "#MSE works as a cost function\n",
        "\n",
        "# def MSE(array1,array2):\n",
        "  \n",
        "#   difference_array = np.subtract(array1, array2)\n",
        "#   squared_array = np.square(difference_array)\n",
        "#   mse = squared_array.mean()\n",
        "\n",
        "#   return mse\n",
        "def loss_function(a,b):\n",
        "    return error(a,b)\n",
        "\n",
        "def error(a,b):\n",
        "    return 1/2*(a-b)**2"
      ],
      "execution_count": 139,
      "outputs": []
    },
    {
      "cell_type": "code",
      "metadata": {
        "id": "jqP44kv1fCar",
        "outputId": "3c6f314a-a7ff-43dd-b13c-7a3cc94692c1",
        "colab": {
          "base_uri": "https://localhost:8080/"
        }
      },
      "source": [
        "number_of_hidden_layers=3\n",
        "number_of_input_features=9\n",
        "weight=np.random.rand(number_of_hidden_layers + 1,number_of_input_features,number_of_input_features)\n",
        "bias=np.ones((number_of_hidden_layers + 1 , number_of_input_features))\n",
        "activation_function=['sigmoid'] * (number_of_hidden_layers+1)\n",
        "# print(weight)\n",
        "\n",
        "# print(bias)\n",
        "\n",
        "# weight matrix dimensions (Number_of_hidden_layers+1) * 9 * 9\n",
        "# bias matrix dimansions (Number_of_hidden_layers+1) * 1\n",
        "# expected output is the given output for the row\n",
        "\n",
        "\n",
        "def train(inp,weight,bias):\n",
        "    # print(weight[-1][0])\n",
        "    y,oy=forward_prop(inp , activation_function , weight , bias )    \n",
        "    # forward_prop is a function that takes in the input to the layer, activation function , entire weight, bias \n",
        "    # corresponding weight and bias for the layer can be calculated by using the layer_index \n",
        "    # forward_prop should call itself recursively and calculate final output and return the final output along with all intermediate outputs(oy) and intermediate summer outputs(y) \n",
        "    # dimensions of oy and y are (number_of_hidden_layers+1) X (number_of_input_features)\n",
        "    # print(weight[-1][0])\n",
        "\n",
        "    # y=np.random.rand((number_of_hidden_layers+1),number_of_input_features)\n",
        "    # oy=np.random.rand((number_of_hidden_layers+1),number_of_input_features)\n",
        "\n",
        "    actual_output=5\n",
        "    error=loss_function(oy[-1][0],actual_output)\n",
        "    print(error,\"is error\")\n",
        "    # loss_function takes in 2 floats calculated_output which is the result of forward_prop and the expected_output which is the given output and \n",
        "    # computer error and returns it\n",
        "    \n",
        "    # print(bias)\n",
        "    # actual_output=0.5\n",
        "    learning_rate=1\n",
        "    weight,bias=back_prop(weight , bias , actual_output , activation_function,oy ,learning_rate , inp)    \n",
        "    # back_prop is a function that takes in the weight and the bias matrices , the error in output , activation_func , layer_index\n",
        "    # starts from the last layer and recursively calls itself till the input layer (corresponding activation_function to be passed)\n",
        "    print(weight[-1][0],bias[0])\n",
        "\n",
        "\n",
        "t=np.ones(9)\n",
        "train(t,weight,bias)\n"
      ],
      "execution_count": 143,
      "outputs": [
        {
          "output_type": "stream",
          "text": [
            "8.065467116885165 is error\n",
            "[0.4038289 0.        0.        0.        0.        0.        0.\n",
            " 0.        0.       ] [1.00000007 1.00000002 1.00000017 1.00000012 1.00000015 1.00000015\n",
            " 1.00000012 1.00000003 1.00000002]\n"
          ],
          "name": "stdout"
        }
      ]
    },
    {
      "cell_type": "code",
      "metadata": {
        "id": "HnC8KU5wWAuD"
      },
      "source": [
        ""
      ],
      "execution_count": null,
      "outputs": []
    },
    {
      "cell_type": "code",
      "metadata": {
        "id": "OvVzDtURSiN3"
      },
      "source": [
        "def forward_prop(inp,activation_function,w,b):\n",
        "    y=np.zeros(((number_of_hidden_layers+1),number_of_input_features))\n",
        "    oy=np.zeros(((number_of_hidden_layers+1),number_of_input_features))\n",
        "\n",
        "    for j in range(number_of_input_features):\n",
        "        for k in range(number_of_input_features):\n",
        "            y[0][k]+=inp[j]*w[0][j][k]\n",
        "\n",
        "    for j in range(number_of_input_features):\n",
        "        y[0][j]+=b[0][j]\n",
        "        oy[0][j]=activate(activation_function[0],y[0][j])\n",
        "\n",
        "    for i in range(1,number_of_hidden_layers):\n",
        "\n",
        "        for j in range(number_of_input_features):\n",
        "            for k in range(number_of_input_features):\n",
        "                y[i][k]+=oy[i-1][j]*w[i][j][k]\n",
        "\n",
        "        for j in range(number_of_input_features):\n",
        "            y[i][j]+=b[i][j]\n",
        "            oy[i][j]=activate(activation_function[i],y[i][j])\n",
        "    \n",
        "    for j in range(number_of_input_features):\n",
        "        y[number_of_hidden_layers][0]+=oy[number_of_hidden_layers - 1][j] * w[number_of_hidden_layers][j][0]\n",
        "\n",
        "    oy[number_of_hidden_layers][0]=activate(activation_function[number_of_hidden_layers],y[number_of_hidden_layers][0])\n",
        "\n",
        "    return y,oy"
      ],
      "execution_count": 113,
      "outputs": []
    },
    {
      "cell_type": "code",
      "metadata": {
        "id": "swhBllXV6W3d"
      },
      "source": [
        "\n",
        "# def derivative_relu(x):\n",
        "#   return np.maximum(0,x)\n",
        "\n",
        "def sigmoid(x):\n",
        "  return 1/(1+np.exp(-x))\n",
        "\n",
        "def activate(func,number):\n",
        "    if(func=='sigmoid'):\n",
        "        f=sigmoid\n",
        "    return f(number)\n",
        "\n",
        "def derivative_sigmoid(x):\n",
        "  return x*(1-x)\n",
        "\n",
        "def derivative_function(func,out):\n",
        "    if(func=='sigmoid'):\n",
        "        f=derivative_sigmoid\n",
        "    return f(out)"
      ],
      "execution_count": 111,
      "outputs": []
    },
    {
      "cell_type": "code",
      "metadata": {
        "id": "KqL11GwnccQX"
      },
      "source": [
        "\n",
        "# print(partial_der_intermediate_outputs)\n",
        "\n",
        "def Partial_der(partial_der_intermediate_outputs , actual_output ,activation_functions , oy ,w):\n",
        "\n",
        "    partial_der_intermediate_outputs[number_of_hidden_layers][0]=(oy[number_of_hidden_layers][0] - actual_output ) * derivative_function(activation_functions[number_of_hidden_layers],oy[number_of_hidden_layers][0])\n",
        "    \n",
        "    for j in range(number_of_input_features):\n",
        "        partial_der_intermediate_outputs[number_of_hidden_layers - 1][j]=partial_der_intermediate_outputs[number_of_hidden_layers][0] * w[number_of_hidden_layers-1][j][0]* derivative_function(activation_functions[number_of_hidden_layers-1],oy[number_of_hidden_layers - 1][j])    \n",
        "    \n",
        "    for i in range(number_of_hidden_layers-2,-1,-1):\n",
        "        for j in range(number_of_input_features):\n",
        "            for k in range(number_of_input_features):\n",
        "                partial_der_intermediate_outputs[i][j]+= partial_der_intermediate_outputs[i+1][k] * w[i][j][k] * derivative_function(activation_function[i],oy[i][j])\n",
        "\n",
        "    # print(partial_der_intermediate_outputs)\n",
        "\n",
        "\n",
        "\n",
        "def back_prop(w , b , actual_output , activation_functions ,oy , learning_rate , inp):\n",
        "    # print(\"HI\")\n",
        "    nw=np.zeros((number_of_hidden_layers+1,number_of_input_features,number_of_input_features))\n",
        "    nb=np.zeros((number_of_hidden_layers+1,number_of_input_features))\n",
        "\n",
        "    partial_der_intermediate_outputs=np.zeros((number_of_hidden_layers + 1, number_of_input_features))\n",
        "    Partial_der(partial_der_intermediate_outputs , actual_output , activation_functions ,oy ,w)\n",
        "    \n",
        "    \n",
        "    for j in range(number_of_input_features):\n",
        "        for k in range(number_of_input_features):\n",
        "            nw[0][j][k]=w[0][j][k]-learning_rate*partial_der_intermediate_outputs[0][k]*inp[j]\n",
        "                \n",
        "\n",
        "\n",
        "    for i in range(1,number_of_hidden_layers):\n",
        "        for j in range(number_of_input_features):\n",
        "            for k in range(number_of_input_features):\n",
        "                nw[i][j][k]=w[i][j][k]-learning_rate*partial_der_intermediate_outputs[i][k]*oy[i-1][j]\n",
        "\n",
        "    for j in range(number_of_input_features):\n",
        "        nw[number_of_hidden_layers][j][0]=w[number_of_hidden_layers][j][0]-learning_rate*partial_der_intermediate_outputs[number_of_hidden_layers][0]*oy[number_of_hidden_layers-1][j]\n",
        "    \n",
        "    for i in range(number_of_hidden_layers):\n",
        "        for j in range(number_of_input_features):\n",
        "            nb[i][j]=b[i][j] - learning_rate * partial_der_intermediate_outputs[i][j]\n",
        "                \n",
        "    for j in range(number_of_input_features):\n",
        "        nb[number_of_hidden_layers][j]=b[number_of_hidden_layers][j] - learning_rate * partial_der_intermediate_outputs[number_of_hidden_layers][0]\n",
        "\n",
        "\n",
        "    # print(b,nb)\n",
        "    # print(\"HIHIHIH\",nw[-1][0])\n",
        "\n",
        "    # print(w[-1][1],nw[-1][1] ,sep=\"\\n\")\n",
        "    return nw,nb\n",
        "    # b=nb.copy()\n",
        "    # w=nw.copy()\n",
        "\n",
        "\n",
        "\n"
      ],
      "execution_count": 131,
      "outputs": []
    },
    {
      "cell_type": "code",
      "metadata": {
        "id": "O-TgxJ5Ar4ZL"
      },
      "source": [
        ""
      ],
      "execution_count": null,
      "outputs": []
    }
  ]
}